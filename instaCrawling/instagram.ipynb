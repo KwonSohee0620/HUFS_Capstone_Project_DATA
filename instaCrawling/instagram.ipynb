{
  "nbformat": 4,
  "nbformat_minor": 0,
  "metadata": {
    "colab": {
      "name": "instagram.ipynb",
      "provenance": [],
      "collapsed_sections": [],
      "include_colab_link": true
    },
    "kernelspec": {
      "name": "python3",
      "display_name": "Python 3"
    },
    "language_info": {
      "name": "python"
    }
  },
  "cells": [
    {
      "cell_type": "markdown",
      "metadata": {
        "id": "view-in-github",
        "colab_type": "text"
      },
      "source": [
        "<a href=\"https://colab.research.google.com/github/KwonSohee0620/HUFS_Capstone_Project_DATA/blob/main/instagram.ipynb\" target=\"_parent\"><img src=\"https://colab.research.google.com/assets/colab-badge.svg\" alt=\"Open In Colab\"/></a>"
      ]
    },
    {
      "cell_type": "code",
      "execution_count": null,
      "metadata": {
        "colab": {
          "base_uri": "https://localhost:8080/"
        },
        "id": "17VLodJpmW3w",
        "outputId": "78b5ee7c-f23f-4bf3-bdf7-e2014a84463c"
      },
      "outputs": [
        {
          "output_type": "stream",
          "name": "stdout",
          "text": [
            "Collecting selenium\n",
            "  Downloading selenium-4.1.5-py3-none-any.whl (979 kB)\n",
            "\u001b[?25l\r\u001b[K     |▍                               | 10 kB 20.9 MB/s eta 0:00:01\r\u001b[K     |▊                               | 20 kB 23.5 MB/s eta 0:00:01\r\u001b[K     |█                               | 30 kB 16.6 MB/s eta 0:00:01\r\u001b[K     |█▍                              | 40 kB 8.2 MB/s eta 0:00:01\r\u001b[K     |█▊                              | 51 kB 8.1 MB/s eta 0:00:01\r\u001b[K     |██                              | 61 kB 9.4 MB/s eta 0:00:01\r\u001b[K     |██▍                             | 71 kB 8.8 MB/s eta 0:00:01\r\u001b[K     |██▊                             | 81 kB 9.1 MB/s eta 0:00:01\r\u001b[K     |███                             | 92 kB 10.1 MB/s eta 0:00:01\r\u001b[K     |███▍                            | 102 kB 8.8 MB/s eta 0:00:01\r\u001b[K     |███▊                            | 112 kB 8.8 MB/s eta 0:00:01\r\u001b[K     |████                            | 122 kB 8.8 MB/s eta 0:00:01\r\u001b[K     |████▍                           | 133 kB 8.8 MB/s eta 0:00:01\r\u001b[K     |████▊                           | 143 kB 8.8 MB/s eta 0:00:01\r\u001b[K     |█████                           | 153 kB 8.8 MB/s eta 0:00:01\r\u001b[K     |█████▍                          | 163 kB 8.8 MB/s eta 0:00:01\r\u001b[K     |█████▊                          | 174 kB 8.8 MB/s eta 0:00:01\r\u001b[K     |██████                          | 184 kB 8.8 MB/s eta 0:00:01\r\u001b[K     |██████▍                         | 194 kB 8.8 MB/s eta 0:00:01\r\u001b[K     |██████▊                         | 204 kB 8.8 MB/s eta 0:00:01\r\u001b[K     |███████                         | 215 kB 8.8 MB/s eta 0:00:01\r\u001b[K     |███████▍                        | 225 kB 8.8 MB/s eta 0:00:01\r\u001b[K     |███████▊                        | 235 kB 8.8 MB/s eta 0:00:01\r\u001b[K     |████████                        | 245 kB 8.8 MB/s eta 0:00:01\r\u001b[K     |████████▍                       | 256 kB 8.8 MB/s eta 0:00:01\r\u001b[K     |████████▊                       | 266 kB 8.8 MB/s eta 0:00:01\r\u001b[K     |█████████                       | 276 kB 8.8 MB/s eta 0:00:01\r\u001b[K     |█████████▍                      | 286 kB 8.8 MB/s eta 0:00:01\r\u001b[K     |█████████▊                      | 296 kB 8.8 MB/s eta 0:00:01\r\u001b[K     |██████████                      | 307 kB 8.8 MB/s eta 0:00:01\r\u001b[K     |██████████▍                     | 317 kB 8.8 MB/s eta 0:00:01\r\u001b[K     |██████████▊                     | 327 kB 8.8 MB/s eta 0:00:01\r\u001b[K     |███████████                     | 337 kB 8.8 MB/s eta 0:00:01\r\u001b[K     |███████████▍                    | 348 kB 8.8 MB/s eta 0:00:01\r\u001b[K     |███████████▊                    | 358 kB 8.8 MB/s eta 0:00:01\r\u001b[K     |████████████                    | 368 kB 8.8 MB/s eta 0:00:01\r\u001b[K     |████████████▍                   | 378 kB 8.8 MB/s eta 0:00:01\r\u001b[K     |████████████▊                   | 389 kB 8.8 MB/s eta 0:00:01\r\u001b[K     |█████████████                   | 399 kB 8.8 MB/s eta 0:00:01\r\u001b[K     |█████████████▍                  | 409 kB 8.8 MB/s eta 0:00:01\r\u001b[K     |█████████████▊                  | 419 kB 8.8 MB/s eta 0:00:01\r\u001b[K     |██████████████                  | 430 kB 8.8 MB/s eta 0:00:01\r\u001b[K     |██████████████▍                 | 440 kB 8.8 MB/s eta 0:00:01\r\u001b[K     |██████████████▊                 | 450 kB 8.8 MB/s eta 0:00:01\r\u001b[K     |███████████████                 | 460 kB 8.8 MB/s eta 0:00:01\r\u001b[K     |███████████████▍                | 471 kB 8.8 MB/s eta 0:00:01\r\u001b[K     |███████████████▊                | 481 kB 8.8 MB/s eta 0:00:01\r\u001b[K     |████████████████                | 491 kB 8.8 MB/s eta 0:00:01\r\u001b[K     |████████████████▍               | 501 kB 8.8 MB/s eta 0:00:01\r\u001b[K     |████████████████▊               | 512 kB 8.8 MB/s eta 0:00:01\r\u001b[K     |█████████████████               | 522 kB 8.8 MB/s eta 0:00:01\r\u001b[K     |█████████████████▍              | 532 kB 8.8 MB/s eta 0:00:01\r\u001b[K     |█████████████████▊              | 542 kB 8.8 MB/s eta 0:00:01\r\u001b[K     |██████████████████              | 552 kB 8.8 MB/s eta 0:00:01\r\u001b[K     |██████████████████▍             | 563 kB 8.8 MB/s eta 0:00:01\r\u001b[K     |██████████████████▊             | 573 kB 8.8 MB/s eta 0:00:01\r\u001b[K     |███████████████████             | 583 kB 8.8 MB/s eta 0:00:01\r\u001b[K     |███████████████████▍            | 593 kB 8.8 MB/s eta 0:00:01\r\u001b[K     |███████████████████▊            | 604 kB 8.8 MB/s eta 0:00:01\r\u001b[K     |████████████████████            | 614 kB 8.8 MB/s eta 0:00:01\r\u001b[K     |████████████████████▍           | 624 kB 8.8 MB/s eta 0:00:01\r\u001b[K     |████████████████████▊           | 634 kB 8.8 MB/s eta 0:00:01\r\u001b[K     |█████████████████████           | 645 kB 8.8 MB/s eta 0:00:01\r\u001b[K     |█████████████████████▍          | 655 kB 8.8 MB/s eta 0:00:01\r\u001b[K     |█████████████████████▊          | 665 kB 8.8 MB/s eta 0:00:01\r\u001b[K     |██████████████████████          | 675 kB 8.8 MB/s eta 0:00:01\r\u001b[K     |██████████████████████▍         | 686 kB 8.8 MB/s eta 0:00:01\r\u001b[K     |██████████████████████▊         | 696 kB 8.8 MB/s eta 0:00:01\r\u001b[K     |███████████████████████         | 706 kB 8.8 MB/s eta 0:00:01\r\u001b[K     |███████████████████████▍        | 716 kB 8.8 MB/s eta 0:00:01\r\u001b[K     |███████████████████████▊        | 727 kB 8.8 MB/s eta 0:00:01\r\u001b[K     |████████████████████████        | 737 kB 8.8 MB/s eta 0:00:01\r\u001b[K     |████████████████████████▍       | 747 kB 8.8 MB/s eta 0:00:01\r\u001b[K     |████████████████████████▊       | 757 kB 8.8 MB/s eta 0:00:01\r\u001b[K     |█████████████████████████       | 768 kB 8.8 MB/s eta 0:00:01\r\u001b[K     |█████████████████████████▍      | 778 kB 8.8 MB/s eta 0:00:01\r\u001b[K     |█████████████████████████▊      | 788 kB 8.8 MB/s eta 0:00:01\r\u001b[K     |██████████████████████████      | 798 kB 8.8 MB/s eta 0:00:01\r\u001b[K     |██████████████████████████▍     | 808 kB 8.8 MB/s eta 0:00:01\r\u001b[K     |██████████████████████████▊     | 819 kB 8.8 MB/s eta 0:00:01\r\u001b[K     |███████████████████████████     | 829 kB 8.8 MB/s eta 0:00:01\r\u001b[K     |███████████████████████████▍    | 839 kB 8.8 MB/s eta 0:00:01\r\u001b[K     |███████████████████████████▊    | 849 kB 8.8 MB/s eta 0:00:01\r\u001b[K     |████████████████████████████    | 860 kB 8.8 MB/s eta 0:00:01\r\u001b[K     |████████████████████████████▍   | 870 kB 8.8 MB/s eta 0:00:01\r\u001b[K     |████████████████████████████▊   | 880 kB 8.8 MB/s eta 0:00:01\r\u001b[K     |█████████████████████████████   | 890 kB 8.8 MB/s eta 0:00:01\r\u001b[K     |█████████████████████████████▍  | 901 kB 8.8 MB/s eta 0:00:01\r\u001b[K     |█████████████████████████████▊  | 911 kB 8.8 MB/s eta 0:00:01\r\u001b[K     |██████████████████████████████▏ | 921 kB 8.8 MB/s eta 0:00:01\r\u001b[K     |██████████████████████████████▌ | 931 kB 8.8 MB/s eta 0:00:01\r\u001b[K     |██████████████████████████████▉ | 942 kB 8.8 MB/s eta 0:00:01\r\u001b[K     |███████████████████████████████▏| 952 kB 8.8 MB/s eta 0:00:01\r\u001b[K     |███████████████████████████████▌| 962 kB 8.8 MB/s eta 0:00:01\r\u001b[K     |███████████████████████████████▉| 972 kB 8.8 MB/s eta 0:00:01\r\u001b[K     |████████████████████████████████| 979 kB 8.8 MB/s \n",
            "\u001b[?25hCollecting trio-websocket~=0.9\n",
            "  Downloading trio_websocket-0.9.2-py3-none-any.whl (16 kB)\n",
            "Collecting trio~=0.17\n",
            "  Downloading trio-0.20.0-py3-none-any.whl (359 kB)\n",
            "\u001b[K     |████████████████████████████████| 359 kB 53.1 MB/s \n",
            "\u001b[?25hCollecting urllib3[secure,socks]~=1.26\n",
            "  Downloading urllib3-1.26.9-py2.py3-none-any.whl (138 kB)\n",
            "\u001b[K     |████████████████████████████████| 138 kB 45.0 MB/s \n",
            "\u001b[?25hCollecting async-generator>=1.9\n",
            "  Downloading async_generator-1.10-py3-none-any.whl (18 kB)\n",
            "Requirement already satisfied: idna in /usr/local/lib/python3.7/dist-packages (from trio~=0.17->selenium) (2.10)\n",
            "Collecting outcome\n",
            "  Downloading outcome-1.1.0-py2.py3-none-any.whl (9.7 kB)\n",
            "Requirement already satisfied: sortedcontainers in /usr/local/lib/python3.7/dist-packages (from trio~=0.17->selenium) (2.4.0)\n",
            "Requirement already satisfied: attrs>=19.2.0 in /usr/local/lib/python3.7/dist-packages (from trio~=0.17->selenium) (21.4.0)\n",
            "Collecting sniffio\n",
            "  Downloading sniffio-1.2.0-py3-none-any.whl (10 kB)\n",
            "Collecting wsproto>=0.14\n",
            "  Downloading wsproto-1.1.0-py3-none-any.whl (24 kB)\n",
            "Requirement already satisfied: PySocks!=1.5.7,<2.0,>=1.5.6 in /usr/local/lib/python3.7/dist-packages (from urllib3[secure,socks]~=1.26->selenium) (1.7.1)\n",
            "Collecting cryptography>=1.3.4\n",
            "  Downloading cryptography-37.0.2-cp36-abi3-manylinux_2_24_x86_64.whl (4.0 MB)\n",
            "\u001b[K     |████████████████████████████████| 4.0 MB 45.6 MB/s \n",
            "\u001b[?25hCollecting pyOpenSSL>=0.14\n",
            "  Downloading pyOpenSSL-22.0.0-py2.py3-none-any.whl (55 kB)\n",
            "\u001b[K     |████████████████████████████████| 55 kB 3.7 MB/s \n",
            "\u001b[?25hRequirement already satisfied: certifi in /usr/local/lib/python3.7/dist-packages (from urllib3[secure,socks]~=1.26->selenium) (2021.10.8)\n",
            "Requirement already satisfied: cffi>=1.12 in /usr/local/lib/python3.7/dist-packages (from cryptography>=1.3.4->urllib3[secure,socks]~=1.26->selenium) (1.15.0)\n",
            "Requirement already satisfied: pycparser in /usr/local/lib/python3.7/dist-packages (from cffi>=1.12->cryptography>=1.3.4->urllib3[secure,socks]~=1.26->selenium) (2.21)\n",
            "Collecting h11<1,>=0.9.0\n",
            "  Downloading h11-0.13.0-py3-none-any.whl (58 kB)\n",
            "\u001b[K     |████████████████████████████████| 58 kB 5.3 MB/s \n",
            "\u001b[?25hRequirement already satisfied: typing-extensions in /usr/local/lib/python3.7/dist-packages (from h11<1,>=0.9.0->wsproto>=0.14->trio-websocket~=0.9->selenium) (4.2.0)\n",
            "Installing collected packages: sniffio, outcome, h11, cryptography, async-generator, wsproto, urllib3, trio, pyOpenSSL, trio-websocket, selenium\n",
            "  Attempting uninstall: urllib3\n",
            "    Found existing installation: urllib3 1.24.3\n",
            "    Uninstalling urllib3-1.24.3:\n",
            "      Successfully uninstalled urllib3-1.24.3\n",
            "\u001b[31mERROR: pip's dependency resolver does not currently take into account all the packages that are installed. This behaviour is the source of the following dependency conflicts.\n",
            "requests 2.23.0 requires urllib3!=1.25.0,!=1.25.1,<1.26,>=1.21.1, but you have urllib3 1.26.9 which is incompatible.\n",
            "datascience 0.10.6 requires folium==0.2.1, but you have folium 0.8.3 which is incompatible.\u001b[0m\n",
            "Successfully installed async-generator-1.10 cryptography-37.0.2 h11-0.13.0 outcome-1.1.0 pyOpenSSL-22.0.0 selenium-4.1.5 sniffio-1.2.0 trio-0.20.0 trio-websocket-0.9.2 urllib3-1.26.9 wsproto-1.1.0\n",
            "Hit:1 https://developer.download.nvidia.com/compute/cuda/repos/ubuntu1804/x86_64  InRelease\n",
            "Get:2 https://cloud.r-project.org/bin/linux/ubuntu bionic-cran40/ InRelease [3,626 B]\n",
            "Ign:3 https://developer.download.nvidia.com/compute/machine-learning/repos/ubuntu1804/x86_64  InRelease\n",
            "Hit:4 https://developer.download.nvidia.com/compute/machine-learning/repos/ubuntu1804/x86_64  Release\n",
            "Hit:5 http://archive.ubuntu.com/ubuntu bionic InRelease\n",
            "Get:6 http://ppa.launchpad.net/c2d4u.team/c2d4u4.0+/ubuntu bionic InRelease [15.9 kB]\n",
            "Get:7 http://security.ubuntu.com/ubuntu bionic-security InRelease [88.7 kB]\n",
            "Get:8 http://archive.ubuntu.com/ubuntu bionic-updates InRelease [88.7 kB]\n",
            "Hit:10 http://ppa.launchpad.net/cran/libgit2/ubuntu bionic InRelease\n",
            "Get:11 http://archive.ubuntu.com/ubuntu bionic-backports InRelease [74.6 kB]\n",
            "Get:12 http://ppa.launchpad.net/deadsnakes/ppa/ubuntu bionic InRelease [15.9 kB]\n",
            "Hit:13 http://ppa.launchpad.net/graphics-drivers/ppa/ubuntu bionic InRelease\n",
            "Get:14 http://ppa.launchpad.net/c2d4u.team/c2d4u4.0+/ubuntu bionic/main Sources [1,958 kB]\n",
            "Get:15 http://security.ubuntu.com/ubuntu bionic-security/main amd64 Packages [2,734 kB]\n",
            "Get:16 http://archive.ubuntu.com/ubuntu bionic-updates/main amd64 Packages [3,168 kB]\n",
            "Get:17 http://security.ubuntu.com/ubuntu bionic-security/universe amd64 Packages [1,498 kB]\n",
            "Get:18 http://archive.ubuntu.com/ubuntu bionic-updates/universe amd64 Packages [2,272 kB]\n",
            "Get:19 http://ppa.launchpad.net/c2d4u.team/c2d4u4.0+/ubuntu bionic/main amd64 Packages [1,004 kB]\n",
            "Get:20 http://ppa.launchpad.net/deadsnakes/ppa/ubuntu bionic/main amd64 Packages [45.3 kB]\n",
            "Fetched 13.0 MB in 4s (2,968 kB/s)\n",
            "Reading package lists... Done\n",
            "Reading package lists... Done\n",
            "Building dependency tree       \n",
            "Reading state information... Done\n",
            "The following packages were automatically installed and are no longer required:\n",
            "  libnvidia-common-460 nsight-compute-2020.2.0\n",
            "Use 'apt autoremove' to remove them.\n",
            "The following additional packages will be installed:\n",
            "  chromium-browser chromium-browser-l10n chromium-codecs-ffmpeg-extra\n",
            "Suggested packages:\n",
            "  webaccounts-chromium-extension unity-chromium-extension\n",
            "The following NEW packages will be installed:\n",
            "  chromium-browser chromium-browser-l10n chromium-chromedriver\n",
            "  chromium-codecs-ffmpeg-extra\n",
            "0 upgraded, 4 newly installed, 0 to remove and 52 not upgraded.\n",
            "Need to get 88.4 MB of archives.\n",
            "After this operation, 297 MB of additional disk space will be used.\n",
            "Get:1 http://archive.ubuntu.com/ubuntu bionic-updates/universe amd64 chromium-codecs-ffmpeg-extra amd64 100.0.4896.127-0ubuntu0.18.04.1 [1,142 kB]\n",
            "Get:2 http://archive.ubuntu.com/ubuntu bionic-updates/universe amd64 chromium-browser amd64 100.0.4896.127-0ubuntu0.18.04.1 [77.6 MB]\n",
            "Get:3 http://archive.ubuntu.com/ubuntu bionic-updates/universe amd64 chromium-browser-l10n all 100.0.4896.127-0ubuntu0.18.04.1 [4,496 kB]\n",
            "Get:4 http://archive.ubuntu.com/ubuntu bionic-updates/universe amd64 chromium-chromedriver amd64 100.0.4896.127-0ubuntu0.18.04.1 [5,190 kB]\n",
            "Fetched 88.4 MB in 6s (15.8 MB/s)\n",
            "Selecting previously unselected package chromium-codecs-ffmpeg-extra.\n",
            "(Reading database ... 155203 files and directories currently installed.)\n",
            "Preparing to unpack .../chromium-codecs-ffmpeg-extra_100.0.4896.127-0ubuntu0.18.04.1_amd64.deb ...\n",
            "Unpacking chromium-codecs-ffmpeg-extra (100.0.4896.127-0ubuntu0.18.04.1) ...\n",
            "Selecting previously unselected package chromium-browser.\n",
            "Preparing to unpack .../chromium-browser_100.0.4896.127-0ubuntu0.18.04.1_amd64.deb ...\n",
            "Unpacking chromium-browser (100.0.4896.127-0ubuntu0.18.04.1) ...\n",
            "Selecting previously unselected package chromium-browser-l10n.\n",
            "Preparing to unpack .../chromium-browser-l10n_100.0.4896.127-0ubuntu0.18.04.1_all.deb ...\n",
            "Unpacking chromium-browser-l10n (100.0.4896.127-0ubuntu0.18.04.1) ...\n",
            "Selecting previously unselected package chromium-chromedriver.\n",
            "Preparing to unpack .../chromium-chromedriver_100.0.4896.127-0ubuntu0.18.04.1_amd64.deb ...\n",
            "Unpacking chromium-chromedriver (100.0.4896.127-0ubuntu0.18.04.1) ...\n",
            "Setting up chromium-codecs-ffmpeg-extra (100.0.4896.127-0ubuntu0.18.04.1) ...\n",
            "Setting up chromium-browser (100.0.4896.127-0ubuntu0.18.04.1) ...\n",
            "update-alternatives: using /usr/bin/chromium-browser to provide /usr/bin/x-www-browser (x-www-browser) in auto mode\n",
            "update-alternatives: using /usr/bin/chromium-browser to provide /usr/bin/gnome-www-browser (gnome-www-browser) in auto mode\n",
            "Setting up chromium-chromedriver (100.0.4896.127-0ubuntu0.18.04.1) ...\n",
            "Setting up chromium-browser-l10n (100.0.4896.127-0ubuntu0.18.04.1) ...\n",
            "Processing triggers for man-db (2.8.3-2ubuntu0.1) ...\n",
            "Processing triggers for hicolor-icon-theme (0.17-2) ...\n",
            "Processing triggers for mime-support (3.60ubuntu1) ...\n",
            "Processing triggers for libc-bin (2.27-3ubuntu1.3) ...\n",
            "/sbin/ldconfig.real: /usr/local/lib/python3.7/dist-packages/ideep4py/lib/libmkldnn.so.0 is not a symbolic link\n",
            "\n",
            "cp: '/usr/lib/chromium-browser/chromedriver' and '/usr/bin/chromedriver' are the same file\n"
          ]
        }
      ],
      "source": [
        "!pip install selenium\n",
        "!apt-get update\n",
        "!apt install chromium-chromedriver\n",
        "!cp /usr/lib/chromium-browser/chromedriver /usr/bin"
      ]
    },
    {
      "cell_type": "code",
      "source": [
        "import requests\n",
        "from bs4 import BeautifulSoup\n",
        "from selenium import webdriver\n",
        "from selenium.webdriver.common.keys import Keys\n",
        "from selenium.webdriver.common.by import By\n",
        "\n",
        "from selenium.webdriver.support.ui import WebDriverWait\n",
        "from selenium.webdriver.support import expected_conditions as EC\n",
        "\n",
        "import pandas as pd\n",
        "import time\n",
        "import csv"
      ],
      "metadata": {
        "id": "DIDcgmPemhMT",
        "colab": {
          "base_uri": "https://localhost:8080/"
        },
        "outputId": "e2781b25-75e5-46d7-8913-a2ba1245a17d"
      },
      "execution_count": null,
      "outputs": [
        {
          "output_type": "stream",
          "name": "stderr",
          "text": [
            "/usr/local/lib/python3.7/dist-packages/requests/__init__.py:91: RequestsDependencyWarning: urllib3 (1.26.9) or chardet (3.0.4) doesn't match a supported version!\n",
            "  RequestsDependencyWarning)\n"
          ]
        }
      ]
    },
    {
      "cell_type": "code",
      "source": [
        "# db connect\n",
        "# naver_news = pymysql.connect(\n",
        "#     user='root', \n",
        "#     password='doslvkdlqm!', \n",
        "#     host='192.168.1.116',\n",
        "#     db='AI_Evaluation', \n",
        "#     charset='utf8'\n",
        "# )\n",
        "\n",
        "# cursor create\n",
        "# cursor = naver_news.cursor()"
      ],
      "metadata": {
        "id": "4HiKoNbtmj_9"
      },
      "execution_count": null,
      "outputs": []
    },
    {
      "cell_type": "code",
      "source": [
        "#chromedriver setting\n",
        "options = webdriver.ChromeOptions()\n",
        "options.add_argument('--headless')\n",
        "options.add_argument('--no-sandbox')\n",
        "options.add_argument('--window-size=1920x1080')\n",
        "options.add_argument('--disable-dev-shm-usage')\n",
        "options.add_argument('Mozilla/5.0 (Windows NT 10.0; Win64; x64) AppleWebKit/537.36 (KHTML, like Gecko) Chrome/101.0.4951.54 Safari/537.36')\n",
        "driver = webdriver.Chrome(\"chromedriver\", options=options)"
      ],
      "metadata": {
        "id": "Io43g4qVmmF_"
      },
      "execution_count": null,
      "outputs": []
    },
    {
      "cell_type": "code",
      "source": [
        "# from google.colab import drive\n",
        "# drive.mount('/content/drive/Shareddrives/캡스톤summa/데이터팀', force_remount=True)"
      ],
      "metadata": {
        "id": "c5IITFDRMINH"
      },
      "execution_count": null,
      "outputs": []
    },
    {
      "cell_type": "code",
      "source": [
        "from google.colab import drive\n",
        "drive.mount('/content/drive')"
      ],
      "metadata": {
        "colab": {
          "base_uri": "https://localhost:8080/"
        },
        "id": "U1oS-3A9aFSC",
        "outputId": "d601fa9e-0489-4cac-98a1-129cff900f84"
      },
      "execution_count": null,
      "outputs": [
        {
          "output_type": "stream",
          "name": "stdout",
          "text": [
            "Mounted at /content/drive\n"
          ]
        }
      ]
    },
    {
      "cell_type": "code",
      "source": [
        "# login\n",
        "url = \"https://www.instagram.com/\"\n",
        "driver.get(url)\n",
        "driver.implicitly_wait(5)\n",
        "\n",
        "# login\n",
        "try:  #if first login\n",
        "  # id = driver.find_element_by_name(\"username\")\n",
        "  id = driver.find_element(By.NAME, 'username')\n",
        "  id.send_keys('SummaCumL') \n",
        "  driver.implicitly_wait(5)\n",
        "  pw = driver.find_element(By.NAME, 'password')\n",
        "  pw.send_keys('summa11')\n",
        "  driver.implicitly_wait(5)\n",
        "  x = driver.find_element(By.CSS_SELECTOR, \"#loginForm > div > div:nth-child(3) > button\").send_keys(Keys.ENTER) #login button\n",
        "  driver.implicitly_wait(5)\n",
        "  print(\"login succeed\")\n",
        "\n",
        "except: #if already login\n",
        "  print(\"already login\")\n",
        "\n",
        "# popup dealing\n",
        "try: \n",
        "    driver.find_element(By.CSS_SELECTOR, '#react-root > section > main > div > div > div > div > button').send_keys(Keys.ENTER)\n",
        "    print(\"popup\")\n",
        "except : pass\n",
        "driver.implicitly_wait(5)"
      ],
      "metadata": {
        "id": "ZPM6ISUkmtKz",
        "colab": {
          "base_uri": "https://localhost:8080/"
        },
        "outputId": "45b6accf-98cb-479d-dea2-3bef745cdd39"
      },
      "execution_count": null,
      "outputs": [
        {
          "output_type": "stream",
          "name": "stdout",
          "text": [
            "login succeed\n",
            "popup\n"
          ]
        }
      ]
    },
    {
      "cell_type": "code",
      "source": [
        "# search!\n",
        "def keyword(word):\n",
        "  url = \"https://www.instagram.com/explore/tags/\" + str(word)\n",
        "  return url"
      ],
      "metadata": {
        "id": "616nQ4zOqmZ4"
      },
      "execution_count": null,
      "outputs": []
    },
    {
      "cell_type": "code",
      "source": [
        "# get information\n",
        "def get_info(driver):\n",
        "  html = driver.page_source\n",
        "  soup = BeautifulSoup(html, 'lxml')\n",
        "\n",
        "  # tag info\n",
        "  tags = []\n",
        "  try :\n",
        "    tag = driver.find_elements(By.CLASS_NAME, 'xil3i')\n",
        "  except:\n",
        "    tag = driver.find_elements(By.XPATH, '/html/body/div[6]/div[3]/div/article/div/div[2]/div/div/div[2]/div[1]/ul/ul/li/ul/div/li/div/div/div[2]/div[1]/span/a')\n",
        "  for i in tag:\n",
        "    tags.append(i.text)\n",
        "\n",
        "  # time info\n",
        "  try: \n",
        "    time = driver.find_element(By.XPATH, '/html/body/div[6]/div[3]/div/article/div/div[2]/div/div/div[2]/div[1]/ul/div/li/div/div/div[2]/div[2]/div/time')\n",
        "  except:\n",
        "    time = driver.find_element(By.XPATH,  '/html/body/div[6]/div[3]/div/article/div/div[2]/div/div/div[2]/div[2]/div/a/div/time')\n",
        "  date = time.get_attribute(\"title\")\n",
        "  month = date[:3]\n",
        "  year = date[-4:]\n",
        "  i = date.index(',') #index\n",
        "  day = date[4:i]\n",
        "  if month == 'Jan':\n",
        "    date = year + '.1.' + day\n",
        "  if month == 'Feb':\n",
        "    date = year + '.2.' + day\n",
        "  if month == 'Mar':\n",
        "    date = year + '.3.' + day\n",
        "  if month == 'Apr':\n",
        "    date = year + '.4.' + day\n",
        "  if month == 'May':\n",
        "    date = year + '.5.' + day\n",
        "  if month == 'Jun':\n",
        "    date = year + '.6.' + day\n",
        "  if month == 'Jul':\n",
        "    date = year + '.7.' + day\n",
        "  if month == 'Aug':\n",
        "    date = year + '.8.' + day\n",
        "  if month == 'Sep':\n",
        "    date = year + '.9.' + day \n",
        "  if month == 'Oct':\n",
        "    date = year + '.10.' + day  \n",
        "  if month == 'Nov':\n",
        "    date = year + '.11.' + day  \n",
        "  if month == 'Dec':\n",
        "    date = year + '.12.' + day  \n",
        "\n",
        "  try:\n",
        "    like = driver.find_element(By.XPATH, '/html/body/div[6]/div[3]/div/article/div/div[2]/div/div/div[2]/section[2]/div/div/div/a/div').text\n",
        "    if 'likes' in like:\n",
        "      like = like[:-6]\n",
        "    else : like = '0'\n",
        "  except:\n",
        "    like = '0'\n",
        "\n",
        "  output = [tags, date, like]\n",
        "  return output"
      ],
      "metadata": {
        "id": "7Fs2YUmSuHPx"
      },
      "execution_count": null,
      "outputs": []
    },
    {
      "cell_type": "code",
      "source": [
        "def get_first(driver):\n",
        "  # button = WebDriverWait(driver, 10).until(EC.element_to_be_clickable((By.CSS_SELECTOR, 'div.eLAPa')))\n",
        "  # button.send_keys(Keys.ENTER)\n",
        "\n",
        "  #driver.find_element(By.CSS_SELECTOR, 'div.eLAPa').send_keys(Keys.ENTER)\n",
        "  #driver.find_element(By.CLASS_NAME, 'eLAPa').send_keys(Keys.ENTER)\n",
        "\n",
        "  first = driver.find_element(By.XPATH, '//*[@id=\"react-root\"]/section/main/article/div[1]/div/div/div[1]/div[1]/a/div[1]')\n",
        "  driver.execute_script(\"arguments[0].click();\", first)\n",
        "  driver.implicitly_wait(5)"
      ],
      "metadata": {
        "id": "m4XZfMLe8ie4"
      },
      "execution_count": null,
      "outputs": []
    },
    {
      "cell_type": "code",
      "source": [
        "def move_next(driver):\n",
        "  next = driver.find_element(By.CSS_SELECTOR, 'body > div.RnEpo._Yhr4 > div.Z2Inc._7c9RR > div > div.l8mY4.feth3 > button')\n",
        "  next.send_keys(Keys.ENTER)\n",
        "  driver.implicitly_wait(5)"
      ],
      "metadata": {
        "id": "4QkiccY1mrur"
      },
      "execution_count": null,
      "outputs": []
    },
    {
      "cell_type": "code",
      "source": [
        "num = 10\n",
        "word = str(input())\n",
        "url = keyword(word) # get url\n",
        "driver.get(url)\n",
        "driver.implicitly_wait(10)\n",
        "\n",
        "df = pd.DataFrame(columns = ['tags', 'date', 'likes'])\n",
        "get_first(driver)\n",
        "for i in range(num):\n",
        "  data = get_info(driver) #게시물 정보 가져오기\n",
        "  print(data)\n",
        "  #df = df.append(data)\n",
        "  df.loc[i] = data\n",
        "  move_next(driver)\n",
        "df.to_csv('sample.csv', mode = 'a', index = False, header = False)\n",
        "#df.to_csv('/content/drive/Shareddrives/캡스톤summa/데이터팀/' + word + '.csv', mode = 'a', index = False, header = False)\n",
        "\n",
        "\n",
        "# with open(f'{word}.csv', 'a', encoding='utf-8-sig', newline='') as f:\n",
        "#   csvWriter = csv.writer(f)\n",
        "#   get_first(driver)\n",
        "#   for i in range(num):\n",
        "#       data = get_info(driver) #게시물 정보 가져오기\n",
        "#       csvWriter.writerow(data)\n",
        "#       move_next(driver)\n",
        "#   f.close()"
      ],
      "metadata": {
        "id": "sfiJwxZi2vaK",
        "colab": {
          "base_uri": "https://localhost:8080/"
        },
        "outputId": "a05d82c2-f1bf-48a9-8ce7-1c0bf6f01d00"
      },
      "execution_count": null,
      "outputs": [
        {
          "output_type": "stream",
          "name": "stdout",
          "text": [
            "트렌드\n",
            "[['#트렌드', '#소셜트렌드', '#디지털트렌드', '#캠페인', '#브랜딩', '#브랜드', '#기획', '#기획자', '#마케팅', '#마케터', '#마케팅팩토리', '#스투시의트렌드노트'], '2022.4.19', '892']\n",
            "[['#tmi트렌드뉴스'], '2022.5.9', '0']\n",
            "[['#여신', '#여신강림', '#깔끔', '#세련', '#봄', '#봄옷', '#봄옷쇼핑', '#신상', '#자켓', '#자켓코디', '#여성의류', '#쇼핑몰', '#여자옷코디', '#패션', '#패션스타그램', '#트렌드', '#신상', '#화성', '#수원', '#동탄', '#서울', '#대전', '#대구', '#부산', '#광주', '#의류', '#맛집', '#뽀미스티크', '#구경', '#오세요', '#💙'], '2022.4.27', '266']\n",
            "[['#마케터_주간업무일지', '#브랜드마케터', '#프랜차이즈마케팅', '#프랜차이즈마케터', '#마케터은진'], '2022.5.8', '1,633']\n",
            "[['#가드닝클래스', '#식물수업', '#테리리움수업', '#선물추천', '#승진선물', '#보타미', '#공간연출', '#이끼', '#이끼시공', '#테라리움', '#실내조경', '#트렌드', '#카페식물인테리어', '#창원카페', '#정원시공', '#창업클래스', '#반려식물', '#식물스타그램', '#행잉식물', '#원예수업', '#울산가드닝클래스', '#부산가드닝클래스', '#대구가드닝클래스', '#취미', '#플랜테리어', '#식물카페', '#terrarium', '#terrariums', '#plants'], '2022.5.6', '544']\n",
            "[['#jkaren', '#제이카렌', '#조인영', '#디자이너', '#패션디자이너', '#브랜드', '#브랜딩', '#런칭', '#패션디자이너브랜드', '#패션', '#플리마켓', '#행사', '#신상품', '#판매', '#특별한', '#옷', '#트렌드', '#초대합니다', '#꼭오세요', '#협찬', '#광고', '#추천', '#오늘', '#오늘사진관', '#오늘사진관대전', '#프로필촬영', '#증명사진', '#사진맛집', '#최'], '2022.4.23', '0']\n",
            "[['#sandraoh', '#iamsandraohinsta', '#luciebrochard', '#luciebrochardvõ', '#루시브로차드', '#killingeve', '#thechair', '#sandraohinsta', '#sandraohonline', '#michelleyeoh'], '2022.4.30', '798']\n",
            "[['#나일론호보백', '#호보백', '#리사이클백', '#슬링백힐', '#리싸이클힐', '#슬링백'], '2022.5.2', '610']\n",
            "[['#역곡', '#역곡미용실', '#부천', '#부천미용실', '#옥길동', '#범박동', '#부평', '#인천', '#역곡역', '#아메카지', '#홍대히피펌', '#갬성', '#올드스캣', '#여자머리스타일', '#히피펌', '#히피펌가격', '#트위스트펌', '#트위스트펌가격', '#트렌드', '#여자헤어스타일', '#열펌', '#열펌가격', '#열펌히피펌', '#올드스캣원장', '#부천히피펌', '#히피펌달인', '#히피펌성지', '#부평히피펌', '#인천히피펌'], '2022.4.4', '846']\n",
            "[['#이해동곤드레', '#막냉이리포트', '#솥밥', '#솥밥맛집', '#인천', '#인천맛집', '#곤드레정식', '#쌀밥', '#솥밥추천', '#곤드레', '#곤드레나물', '#제철나물', '#소불고기', '#간장게장', '#한식맛집', '#한식', '#백반', '#백반맛집', '#반찬', '#나물', '#웰빙', '#건강식', '#이달의솥밥', '#이달의메뉴', '#외식경영', '#매거진', '#창업', '#식당', '#트렌드', '#리뷰'], '2022.5.10', '0']\n"
          ]
        }
      ]
    }
  ]
}
