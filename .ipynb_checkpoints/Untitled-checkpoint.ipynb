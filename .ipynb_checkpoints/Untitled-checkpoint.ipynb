{
 "cells": [
  {
   "cell_type": "code",
   "execution_count": 1,
   "id": "8b7bcbdc",
   "metadata": {},
   "outputs": [],
   "source": [
    "import pymysql\n",
    "import csv\n",
    "import pandas as pd"
   ]
  },
  {
   "cell_type": "code",
   "execution_count": 2,
   "id": "9d9f4a2a",
   "metadata": {},
   "outputs": [],
   "source": [
    "db = pymysql.connect(\n",
    "    host = 'localhost',\n",
    "    port = 3306,\n",
    "    user = 'root',\n",
    "    passwd = '1234',\n",
    "    db = 'sosanggongin',\n",
    "    charset = 'utf8'\n",
    ")\n",
    "cursor = db.cursor()"
   ]
  },
  {
   "cell_type": "code",
   "execution_count": 6,
   "id": "e03a7b3c",
   "metadata": {},
   "outputs": [
    {
     "name": "stdout",
     "output_type": "stream",
     "text": [
      "월간 검색량 (Total)\n",
      "200\n",
      "260\n",
      "980\n",
      "5110\n",
      "5390\n",
      "5630\n",
      "5700\n",
      "7720\n",
      "8140\n",
      "8180\n",
      "9760\n",
      "13620\n",
      "15670\n",
      "187700\n",
      "187800\n",
      "198500\n",
      "280100\n",
      "832200\n",
      "841900\n",
      "1307400\n"
     ]
    }
   ],
   "source": [
    "f = open('#핫플.csv','r')\n",
    "csvReader = csv.reader(f)\n",
    "\n",
    "for row in csvReader:\n",
    "    keyworkd = row[0]\n",
    "    월간 검색량 = row[1]\n",
    "    누"
   ]
  }
 ],
 "metadata": {
  "kernelspec": {
   "display_name": "Python 3 (ipykernel)",
   "language": "python",
   "name": "python3"
  },
  "language_info": {
   "codemirror_mode": {
    "name": "ipython",
    "version": 3
   },
   "file_extension": ".py",
   "mimetype": "text/x-python",
   "name": "python",
   "nbconvert_exporter": "python",
   "pygments_lexer": "ipython3",
   "version": "3.9.7"
  }
 },
 "nbformat": 4,
 "nbformat_minor": 5
}
